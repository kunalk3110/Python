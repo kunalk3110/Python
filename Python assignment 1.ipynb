{
 "cells": [
  {
   "cell_type": "markdown",
   "id": "2d4995f7",
   "metadata": {},
   "source": [
    "Question 1 : Write a Python program to print Hello Python?"
   ]
  },
  {
   "cell_type": "code",
   "execution_count": 2,
   "id": "5ff146a5",
   "metadata": {},
   "outputs": [
    {
     "name": "stdout",
     "output_type": "stream",
     "text": [
      "Hello Python\n"
     ]
    }
   ],
   "source": [
    "print(\"Hello Python\")"
   ]
  },
  {
   "cell_type": "markdown",
   "id": "b71e83e8",
   "metadata": {},
   "source": [
    "Queston 2 : Write a Python program to do arithmetical operations addition and division.?"
   ]
  },
  {
   "cell_type": "code",
   "execution_count": 4,
   "id": "2523075f",
   "metadata": {},
   "outputs": [
    {
     "name": "stdout",
     "output_type": "stream",
     "text": [
      "Enter value of x200\n",
      "Enter value of y30\n",
      "200\n",
      "30\n",
      "Sum of two variable is  230\n",
      "Division of x by y is 6.666666666666667\n"
     ]
    }
   ],
   "source": [
    "x = int(input(\"Enter value of x\"))\n",
    "y = int(input(\"Enter value of y\"))\n",
    "print(x)\n",
    "print(y)\n",
    "a = x+y\n",
    "print(\"Sum of two variable is \", a)\n",
    "b = x/y\n",
    "print(\"Division of x by y is\", b)"
   ]
  },
  {
   "cell_type": "markdown",
   "id": "b7440fc5",
   "metadata": {},
   "source": [
    "Question 3: Write a Python program to find the area of a triangle?\n"
   ]
  },
  {
   "cell_type": "code",
   "execution_count": 5,
   "id": "850f2f76",
   "metadata": {},
   "outputs": [
    {
     "name": "stdout",
     "output_type": "stream",
     "text": [
      "Enter the base length of triangle in cm30\n",
      "Enter the Height of the triangle in cm25\n",
      "Area of triangle is  375.0 sq.cm\n"
     ]
    }
   ],
   "source": [
    "B = int(input(\"Enter the base length of triangle in cm\"))\n",
    "H = int(input(\"Enter the Height of the triangle in cm\"))\n",
    "Area = .5*B*H\n",
    "print(\"Area of triangle is \", Area, \"sq.cm\")"
   ]
  },
  {
   "cell_type": "markdown",
   "id": "cc40a879",
   "metadata": {},
   "source": [
    "Question 4 : Write a Python program to swap two variables?"
   ]
  },
  {
   "cell_type": "code",
   "execution_count": 7,
   "id": "a64c9ef8",
   "metadata": {},
   "outputs": [
    {
     "name": "stdout",
     "output_type": "stream",
     "text": [
      "Enter the value of a30\n",
      "Enter the value of b20\n",
      "\n",
      "Before swap a = 30 and b = 20\n",
      "\n",
      "After swaping a = 20 and b = 30\n"
     ]
    }
   ],
   "source": [
    "a = int(input(\"Enter the value of a\"))\n",
    "b = int(input(\"Enter the value of b\"))\n",
    "print(\"\\nBefore swap a = %d and b = %d\" %(a, b))\n",
    "a, b = b, a\n",
    "print(\"\\nAfter swaping a = %d and b = %d\" %(a, b))\n"
   ]
  },
  {
   "cell_type": "markdown",
   "id": "6d39975b",
   "metadata": {},
   "source": [
    "Question 5 : Write a Python program to generate a random number?\n"
   ]
  },
  {
   "cell_type": "code",
   "execution_count": 1,
   "id": "654c0686",
   "metadata": {},
   "outputs": [],
   "source": [
    "import numpy as np"
   ]
  },
  {
   "cell_type": "code",
   "execution_count": 4,
   "id": "32b4803c",
   "metadata": {},
   "outputs": [
    {
     "name": "stdout",
     "output_type": "stream",
     "text": [
      "[0.07141991 0.0720729  0.56721258 0.21332813 0.42891714 0.49912601\n",
      " 0.91076898 0.32456817 0.52000138 0.63033794]\n"
     ]
    }
   ],
   "source": [
    "print(np.random.random_sample(size = 10))"
   ]
  },
  {
   "cell_type": "code",
   "execution_count": null,
   "id": "9b5f12df",
   "metadata": {},
   "outputs": [],
   "source": []
  }
 ],
 "metadata": {
  "kernelspec": {
   "display_name": "Python 3",
   "language": "python",
   "name": "python3"
  },
  "language_info": {
   "codemirror_mode": {
    "name": "ipython",
    "version": 3
   },
   "file_extension": ".py",
   "mimetype": "text/x-python",
   "name": "python",
   "nbconvert_exporter": "python",
   "pygments_lexer": "ipython3",
   "version": "3.8.8"
  }
 },
 "nbformat": 4,
 "nbformat_minor": 5
}
